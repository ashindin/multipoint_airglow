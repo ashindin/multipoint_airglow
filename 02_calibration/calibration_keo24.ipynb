{
 "cells": [
  {
   "cell_type": "code",
   "execution_count": 1,
   "metadata": {
    "collapsed": true
   },
   "outputs": [],
   "source": [
    "import numpy as np\n",
    "import matplotlib\n",
    "import matplotlib.pyplot as plt\n",
    "# %matplotlib inline\n",
    "from astropy.io import fits\n",
    "import datetime\n",
    "from astropy import units as u\n",
    "from astropy.coordinates import SkyCoord, EarthLocation, AltAz\n",
    "import time"
   ]
  },
  {
   "cell_type": "code",
   "execution_count": 2,
   "metadata": {
    "collapsed": false
   },
   "outputs": [],
   "source": [
    "from some_func import cart2spheric, spheric2cart, spheric_coordinates_rotate, hor2pix_keo, bright_relay_keo"
   ]
  },
  {
   "cell_type": "code",
   "execution_count": 3,
   "metadata": {
    "collapsed": true
   },
   "outputs": [],
   "source": [
    "img_num=2408\n",
    "# img_num=2507"
   ]
  },
  {
   "cell_type": "code",
   "execution_count": 4,
   "metadata": {
    "collapsed": true
   },
   "outputs": [],
   "source": [
    "pic_save_name='/home/ashindin/temp/' + str(img_num) + '.png'"
   ]
  },
  {
   "cell_type": "raw",
   "metadata": {
    "collapsed": true
   },
   "source": [
    "fit_filename='/mnt/Work_disk/Owncloud/0000_Two_points/DATA/02_KEO/140824/20140824_' + str(img_num) + '.fit'\n",
    "dark_filename='/mnt/Work_disk/Owncloud/0000_Two_points/DATA/02_KEO/140824/dark/keo_aug24_dark_median.fit'\n",
    "BS6300_catalog_filename='Haritonov_6300BS_catalog.npz'"
   ]
  },
  {
   "cell_type": "code",
   "execution_count": 5,
   "metadata": {
    "collapsed": true
   },
   "outputs": [],
   "source": [
    "fit_filename='../DATA/02_KEO/140824/20140824_' + str(img_num) + '.fit'\n",
    "dark_filename='../DATA/02_KEO/140824/dark/keo_aug24_dark_median.fit'\n",
    "BS6300_catalog_filename='Haritonov_6300BS_catalog.npz'"
   ]
  },
  {
   "cell_type": "code",
   "execution_count": 6,
   "metadata": {
    "collapsed": false
   },
   "outputs": [],
   "source": [
    "# Координаты расположения KEO\n",
    "lat_keo=55.9305361 # ШИРОТА\n",
    "lon_keo=48.7444861 # ДОЛГОТА\n",
    "h_keo=91.0\n",
    "KEO_site=EarthLocation(lat=lat_keo*u.deg, lon=lon_keo*u.deg, height=h_keo*u.m)\n",
    "\n",
    "# Ориентация KEO - 24 августа\n",
    "az0_keo = 6.0729592128071603;\n",
    "alt0_keo = 1.5428754318596944;\n",
    "a_keo = (   1.1260974991748651,   -0.0048692544335450,    0.0004054871474967)\n",
    "b_keo = (   1.3414326667154699,   -0.0003973836009369,   -0.0048666234384367)\n",
    "c_keo = ( 252.5023732028608379, -203.9735999213842206,  -16.9930115762693461)\n",
    "d_keo = ( 255.0212588337721229,   16.6581624996323754, -204.0858265523006594)"
   ]
  },
  {
   "cell_type": "code",
   "execution_count": 7,
   "metadata": {
    "collapsed": false
   },
   "outputs": [
    {
     "name": "stdout",
     "output_type": "stream",
     "text": [
      "['HARITONOV_ID' 'BS_ID' 'RA (icrs, deg)' 'DEC (icrs, deg)' 'MAG_V'\n",
      " '6300 Flux (erg/(sm^2 * s *  sm))']\n"
     ]
    }
   ],
   "source": [
    "npzfile=np.load(BS6300_catalog_filename)\n",
    "CAT_FIELDS=npzfile['CAT_FIELDS']\n",
    "CAT_6300BS=npzfile['CAT_6300BS']\n",
    "CAT_SPTYPE=npzfile['CAT_SPTYPE']\n",
    "print(CAT_FIELDS)"
   ]
  },
  {
   "cell_type": "code",
   "execution_count": 8,
   "metadata": {
    "collapsed": false
   },
   "outputs": [
    {
     "name": "stdout",
     "output_type": "stream",
     "text": [
      "2014-08-24 19:52:10\n"
     ]
    },
    {
     "name": "stderr",
     "output_type": "stream",
     "text": [
      "WARNING: File may have been truncated: actual file length (525122) is smaller than the expected size (527040) [astropy.io.fits.file]\n"
     ]
    }
   ],
   "source": [
    "fid_fit=fits.open(fit_filename);\n",
    "date_obs_str=fid_fit[0].header[\"DATE-OBS\"]\n",
    "img=fid_fit[0].data;\n",
    "img=img.astype('d')\n",
    "fid_fit.close()\n",
    "dark=fits.getdata(dark_filename);\n",
    "dark.astype('d')\n",
    "img=img-dark\n",
    "date_obs=datetime.datetime.strptime(date_obs_str,\"%Y-%m-%dT%H:%M:%S\")+datetime.timedelta(seconds=15)\n",
    "print(date_obs)"
   ]
  },
  {
   "cell_type": "code",
   "execution_count": 9,
   "metadata": {
    "collapsed": false
   },
   "outputs": [],
   "source": [
    "BS_coord=SkyCoord(CAT_6300BS[:,2], CAT_6300BS[:,3], frame='icrs', unit='deg');\n",
    "\n",
    "altaz=BS_coord.transform_to(AltAz(obstime=date_obs, location=KEO_site,temperature=15*u.deg_C,pressure=1013*u.hPa,\n",
    "                                       relative_humidity=0.5,obswl=630.0*u.nm))\n",
    "BS_AzAlt=np.zeros((np.size(CAT_6300BS,0),2))\n",
    "BS_AzAlt[:,0]=altaz.az.degree\n",
    "BS_AzAlt[:,1]=altaz.alt.degree"
   ]
  },
  {
   "cell_type": "code",
   "execution_count": 10,
   "metadata": {
    "collapsed": false
   },
   "outputs": [
    {
     "name": "stdout",
     "output_type": "stream",
     "text": [
      "92.5910864862 46.5220644502\n"
     ]
    }
   ],
   "source": [
    "print(BS_AzAlt[28,0],BS_AzAlt[28,1])"
   ]
  },
  {
   "cell_type": "code",
   "execution_count": 11,
   "metadata": {
    "collapsed": false
   },
   "outputs": [],
   "source": [
    "BS_xy=np.zeros((np.size(CAT_6300BS,0),2))\n",
    "BS_xy[:,0], BS_xy[:,1] = hor2pix_keo (BS_AzAlt[:,0]*np.pi/180,BS_AzAlt[:,1]*np.pi/180, az0_keo, alt0_keo, c_keo, d_keo)"
   ]
  },
  {
   "cell_type": "code",
   "execution_count": 12,
   "metadata": {
    "collapsed": false
   },
   "outputs": [],
   "source": [
    "# Catalog filtration\n",
    "filt_mask=np.zeros(np.size(CAT_6300BS,0),dtype=bool)\n",
    "for i in range(0,np.size(CAT_6300BS,0)):\n",
    "    if BS_AzAlt[i,1]>=44.0 and BS_AzAlt[i,1]<=62.0:\n",
    "#     if BS_AzAlt[i,1]>=62.0: #and BS_AzAlt[i,1]<=82.0:\n",
    "        if BS_xy[i,0]>=1 and BS_xy[i,0]<=511:\n",
    "            if BS_xy[i,1]>=1 and BS_xy[i,1]<=511:\n",
    "                filt_mask[i]=True\n",
    "BS_AzAlt_filt=BS_AzAlt[filt_mask,:]\n",
    "BS_xy_filt=BS_xy[filt_mask,:]\n",
    "CAT_6300BS_filt=CAT_6300BS[filt_mask,:]\n",
    "CAT_SPTYPE_filt=CAT_SPTYPE[filt_mask]"
   ]
  },
  {
   "cell_type": "code",
   "execution_count": 13,
   "metadata": {
    "collapsed": false
   },
   "outputs": [
    {
     "data": {
      "text/plain": [
       "90"
      ]
     },
     "execution_count": 13,
     "metadata": {},
     "output_type": "execute_result"
    }
   ],
   "source": [
    "np.size(BS_xy_filt,0)"
   ]
  },
  {
   "cell_type": "code",
   "execution_count": 14,
   "metadata": {
    "collapsed": false
   },
   "outputs": [
    {
     "data": {
      "text/plain": [
       "array([   1.,    5.,    6.,   12.,   13.,   15.,   17.,   18.,   19.,\n",
       "         22.,   23.,   28.,   29.,   30.,   36.,   37.,   40.,   47.,\n",
       "         48.,   58.,   66.,   89.,   90.,   97.,  132.,  259.,  280.,\n",
       "        328.,  336.,  349.,  355.,  360.,  365.,  369.,  370.,  377.,\n",
       "        379.,  387.,  388.,  390.,  392.,  393.,  399.,  401.,  402.,\n",
       "        403.,  406.,  409.,  410.,  412.,  419.,  420.,  424.,  425.,\n",
       "        426.,  431.,  438.,  442.,  443.,  447.,  455.,  456.,  457.,\n",
       "        458.,  460.,  462.,  469.,  472.,  473.,  476.,  478.,  486.,\n",
       "        487.,  497.,  498.,  507.,  508.,  514.,  525.,  526.,  528.,\n",
       "        530.,  535.,  537.,  548.,  549.,  552.,  553.,  564.,  565.])"
      ]
     },
     "execution_count": 14,
     "metadata": {},
     "output_type": "execute_result"
    }
   ],
   "source": [
    "CAT_6300BS_filt[:,0]"
   ]
  },
  {
   "cell_type": "raw",
   "metadata": {},
   "source": [
    "fig, ax = plt.subplots()\n",
    "# plt.imshow(img, cmap=\"gray\", vmin=300, vmax=900)\n",
    "plt.pcolormesh(img, cmap=\"gray\", vmin=300, vmax=1000)\n",
    "#plt.colorbar\n",
    "plt.plot(BS_xy_filt[:,0],BS_xy_filt[:,1],color=\"r\",marker=\".\", lw=0.,mec=\"r\", mfc=\"none\")\n",
    "# ax.set_xlim([247+10,247-10]);\n",
    "# ax.set_ylim([392+10,392-10]);\n",
    "\n",
    "# ax.set_xlim([275,175]);\n",
    "# ax.set_ylim([325,425]);\n",
    "\n",
    "ax.set_xlim((511,1))\n",
    "ax.set_ylim((511,1))\n",
    "\n",
    "plt.show()"
   ]
  },
  {
   "cell_type": "code",
   "execution_count": 15,
   "metadata": {
    "collapsed": true
   },
   "outputs": [],
   "source": [
    "img_red_st_int=np.zeros(np.size(BS_xy_filt,0))\n",
    "img_red_st_num=np.zeros(np.size(BS_xy_filt,0))\n",
    "BS_adc_filt=np.zeros(np.size(BS_xy_filt,0))\n",
    "area_rad=2\n",
    "for j in range(np.size(BS_xy_filt,0)):    \n",
    "    st_x=BS_xy_filt[j,0]\n",
    "    st_y=BS_xy_filt[j,1]\n",
    "    area=img[int(st_y)-area_rad:int(st_y)+area_rad+1, int(st_x)-area_rad:int(st_x)+area_rad+1]\n",
    "\n",
    "    sum_temp=0.0\n",
    "    num=0\n",
    "    med=np.median(area)\n",
    "    for i in range(len(area.flat)):\n",
    "        if area.flat[i]>=1.3*med:\n",
    "            num+=1\n",
    "            sum_temp+=area.flat[i]-med\n",
    "    img_red_st_int[j]=sum_temp\n",
    "    img_red_st_num[j]=num\n",
    "    if num>0:\n",
    "        BS_adc_filt[j]=sum_temp/num"
   ]
  },
  {
   "cell_type": "raw",
   "metadata": {},
   "source": [
    "print(BS_adc_filt[:])"
   ]
  },
  {
   "cell_type": "code",
   "execution_count": 16,
   "metadata": {
    "collapsed": false
   },
   "outputs": [
    {
     "name": "stdout",
     "output_type": "stream",
     "text": [
      "[ 4.  3.  1.  0.  1.  1.  3.  1.  1.  2.  2.  1.  5.  2.  3.  3.  1.  1.\n",
      "  2.  2.  2.  1.  2.  0.  0.  0.  1.  4.  4.  1.  4.  4.  4.  0.  1.  0.\n",
      "  2.  2.  1.  3.  2.  1.  6.  1.  1.  1.  1.  0.  0.  0.  2.  1.  0.  1.\n",
      "  0.  2.  1.  2.  0.  1.  2.  2.  0.  1.  0.  2.  1.  0.  1.  0.  1.  1.\n",
      "  1.  1.  2.  0.  1.  1.  1.  2.  2.  2.  5.  3.  0.  0.  1.  0.  1.  1.]\n"
     ]
    }
   ],
   "source": [
    "print(img_red_st_num)"
   ]
  },
  {
   "cell_type": "code",
   "execution_count": 17,
   "metadata": {
    "collapsed": true
   },
   "outputs": [],
   "source": [
    "BS_relay=np.zeros(np.size(BS_xy_filt,0))\n",
    "R_adc_coef=np.zeros(np.size(BS_xy_filt,0))\n",
    "for i in range(np.size(BS_xy_filt,0)):\n",
    "     if img_red_st_num[i]>3:\n",
    "            BS_relay[i]=bright_relay_keo(CAT_6300BS_filt[i,5],img_red_st_num[i])\n",
    "            if BS_adc_filt[i]>0 and BS_relay[i]>100:\n",
    "                R_adc_coef[i]=BS_relay[i]/BS_adc_filt[i]"
   ]
  },
  {
   "cell_type": "markdown",
   "metadata": {},
   "source": [
    "print(BS_relay)"
   ]
  },
  {
   "cell_type": "raw",
   "metadata": {},
   "source": [
    "fig,ax = plt.subplots()\n",
    "plt.scatter(BS_relay,BS_adc_filt,s=np.pi*(img_red_st_num)**2)\n",
    "ax.set_xlim((100, 1300))\n",
    "ax.set_ylim((500, 5000))\n",
    "plt.show()"
   ]
  },
  {
   "cell_type": "code",
   "execution_count": 18,
   "metadata": {
    "collapsed": false
   },
   "outputs": [
    {
     "name": "stdout",
     "output_type": "stream",
     "text": [
      "[ 0.40720453  0.39803476  0.32043762  0.25125739  0.29251469  0.3218874\n",
      "  0.37066402]\n",
      "0.321887399165\n"
     ]
    }
   ],
   "source": [
    "print(R_adc_coef[R_adc_coef.nonzero()])\n",
    "R_median=np.median(R_adc_coef[R_adc_coef.nonzero()])\n",
    "print(R_median)"
   ]
  },
  {
   "cell_type": "code",
   "execution_count": 19,
   "metadata": {
    "collapsed": false
   },
   "outputs": [
    {
     "data": {
      "image/png": "[encoded data removed]",
      "text/plain": [
       "<matplotlib.figure.Figure at 0x7f497fcb3198>"
      ]
     },
     "metadata": {},
     "output_type": "display_data"
    }
   ],
   "source": [
    "fig,ax = plt.subplots()\n",
    "plt.plot([0, 5000], [R_median, R_median], c='r', lw=2)\n",
    "plt.scatter(BS_relay,R_adc_coef,s=np.pi*(img_red_st_num)**2)\n",
    "plt.ylabel('Calibration coef. [R/ADCu]')\n",
    "plt.xlabel('Star brightness per pixel [R]')\n",
    "plt.title(date_obs, loc='left')\n",
    "plt.title(R_median, loc='right')\n",
    "ax.set_xlim((100, 1300))\n",
    "ax.set_ylim((0, 0.7))\n",
    "plt.show()\n",
    "# plt.savefig(pic_save_name)"
   ]
  }
 ],
 "metadata": {
  "kernelspec": {
   "display_name": "Python 3",
   "language": "python",
   "name": "python3"
  },
  "language_info": {
   "codemirror_mode": {
    "name": "ipython",
    "version": 3
   },
   "file_extension": ".py",
   "mimetype": "text/x-python",
   "name": "python",
   "nbconvert_exporter": "python",
   "pygments_lexer": "ipython3",
   "version": "3.6.0"
  }
 },
 "nbformat": 4,
 "nbformat_minor": 0
}
