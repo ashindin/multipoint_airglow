{
 "cells": [
  {
   "cell_type": "code",
   "execution_count": 1,
   "metadata": {
    "collapsed": true
   },
   "outputs": [],
   "source": [
    "import numpy as np\n",
    "from __future__ import unicode_literals\n",
    "import matplotlib\n",
    "matplotlib.rcParams['text.usetex'] = True\n",
    "matplotlib.rcParams['text.latex.unicode'] = True\n",
    "import matplotlib.pyplot as plt"
   ]
  },
  {
   "cell_type": "markdown",
   "metadata": {},
   "source": [
    "# О телесных углах пикселей\n",
    "*Моя попытка разобраться в том, как меняется величина телесного угла одного пикселя в зависимости от расположения пикселя на кадре, а также в том, как эта величина соотносится с угловым разрешением объектива.  \n",
    "Величина телесного угла пикселя используется при калибровке камер по звездам.*\n",
    "\n",
    "Рассмотрены три способа определить величину телесного угла, приходящегося на один пиксель, для камер **KEO** и **S1C**:  \n",
    "1. По формуле $\\Omega_{pix} \\approx \\frac{S_{pix}}{f^2}$, где $S_{pix}$ - площадь пикселя, $f$ - фокусное расстояние.  \n",
    "2. Из формулы для полного телесного угла для объектива с заданным полем зрения.\n",
    "3. По расчитанным угловым разрешениям матрицы.  \n",
    "\n",
    "Способы 2 и 3 используют также информацию о типе проекции, используемой в камере."
   ]
  },
  {
   "cell_type": "markdown",
   "metadata": {},
   "source": [
    "### Выводы сразу:\n",
    "1. Телесный угол, приходящийся на один пиксель матрицы, **уменьшается к краю кадра** (на 25% для **KEO** и на 5% для **S1C** от значения в центре кадра). Это значит, что угловое разрешение, которое обеспечивает матрица, к краю кадра **увеличивается**, в отличие от углового разрешения, которое обеспечивается оптикой (угловое разрешение объективов уменьшается к краю кадра).\n",
    "2. В области кадра, где обычно наблюдается искусственное свечение, телесный угол одного пикселя всего лишь **на малую величину** меньше телесного угла в центре кадра (на **~6.5%** для **KEO** и на **~1.15%** для **S1C**).\n",
    "3. Ранее определенное эффективное фокусное расстояние для **KEO** ($f=6.34$ мм), видимо не совсем точно. Этим можно объяснить разницу между телесными углами центрального пикселя, вычисленными способами 1 и 2. Значение $f=6.06$ мм обеспечит величину $\\Omega_{pix}=23.85\\cdot10^6$ стерадиан.\n",
    "4. Первый способ определения телесного угла, приходящегося на один пиксель, строго подходит только для центрального пикселя и не учитывает зависимость телесного угла пикселя от зенитного расстояния.\n",
    "5. Зависимости величины телесного угла, приходящегося на один пиксель, вычисленные способами **2** и **3**, оказываются близки при значениях $\\theta$ начиная от $10^{\\circ}$ для **KEO** и от $1^{\\circ}$ для **S1C**, и практически совпадают при больших $\\theta$. При этом не вполне понятно, чем обусловлена разница между ними вблизи центра кадра."
   ]
  },
  {
   "cell_type": "code",
   "execution_count": 2,
   "metadata": {
    "collapsed": true
   },
   "outputs": [],
   "source": [
    "# Полезные функции\n",
    "def spheric2cart(r,φ,θ):\n",
    "    # Θ is a Zenith angle, not altitude angle\n",
    "    x=r*np.sin(θ)*np.cos(φ)\n",
    "    y=r*np.sin(θ)*np.sin(φ)\n",
    "    z=r*np.cos(θ);\n",
    "    return x, y, z;\n",
    "\n",
    "def cart2spheric(x,y,z):\n",
    "    r=np.sqrt(x**+y**2+z**2);\n",
    "    φ=np.arctan2(y,x);\n",
    "    θ=np.arccos(z/r);\n",
    "    return r, φ, θ;"
   ]
  },
  {
   "cell_type": "markdown",
   "metadata": {},
   "source": [
    "## Способ №1: $\\Omega_{pix} \\approx \\frac{S_{pix}}{f^2}$"
   ]
  },
  {
   "cell_type": "markdown",
   "metadata": {},
   "source": [
    "### Камера **KEO**\n",
    "Размер пикселя (по спецификации) : 7.4 мкм.  \n",
    "Площадь пикселя в используемом режиме (бинирование 4x4, размер кадра 511x511 пикселей): $S_{pix}= (4\\cdot 7.4)^2\\cdot 10^{-12}м^2$  \n",
    "Эффективное фокусное расстояние (определенное *неточно* в ходе калибровки камеры) $ \\approx 6.34мм=6.34\\cdot10^{-3}$ м.  \n",
    "Расчет телесного угла по формуле $\\Omega_{pix} \\approx \\frac{S_{pix}}{f^2}$:"
   ]
  },
  {
   "cell_type": "code",
   "execution_count": 3,
   "metadata": {
    "collapsed": false
   },
   "outputs": [
    {
     "name": "stdout",
     "output_type": "stream",
     "text": [
      "Ω_pix = 21.797410661863488·10^(-6) sr\n"
     ]
    }
   ],
   "source": [
    "S_pix_keo=(4*7.4)**2*10**(-12)\n",
    "f_keo=6.34*10**(-3)\n",
    "Ω_pix_keo_m1=S_pix_keo/f_keo**2\n",
    "print('Ω_pix = '+str(Ω_pix_keo_m1*10**6)+'·10^(-6) sr')"
   ]
  },
  {
   "cell_type": "markdown",
   "metadata": {},
   "source": [
    "**Получили** телесный угол одного пикселя для **KEO** первым способом:  \n",
    "$\\Omega_{pix}^{KEO} \\approx 21.8\\cdot10^{-6}$ стерадиан"
   ]
  },
  {
   "cell_type": "markdown",
   "metadata": {},
   "source": [
    "### Камера **S1C**\n",
    "Размер пикселя (по спецификации) : 22 мкм.  \n",
    "Площадь пикселя в используемом режиме (бинирование 2x2, размер кадра 288x288 пикселей): $S_{pix}= (2\\cdot 22)^2\\cdot 10^{-12}м^2$  \n",
    "Фокусное расстояние $ \\approx 35мм=35\\cdot10^{-3}$ м.  \n",
    "Расчет телесного угла по формуле $\\Omega_{pix} \\approx \\frac{S_{pix}}{f^2}$:"
   ]
  },
  {
   "cell_type": "code",
   "execution_count": 4,
   "metadata": {
    "collapsed": false
   },
   "outputs": [
    {
     "name": "stdout",
     "output_type": "stream",
     "text": [
      "Ω_pix = 1.5804081632653058·10^(-6) sr\n"
     ]
    }
   ],
   "source": [
    "S_pix_s1c=(2*22)**2*10**(-12)\n",
    "f_s1c=35*10**(-3)\n",
    "Ω_pix_s1c_m1=S_pix_s1c/f_s1c**2\n",
    "print('Ω_pix = '+str(Ω_pix_s1c_m1*10**6)+'·10^(-6) sr')"
   ]
  },
  {
   "cell_type": "markdown",
   "metadata": {},
   "source": [
    "**Получили** телесный угол одного пикселя для **S1C** первым способом:  \n",
    "$\\Omega_{pix}^{S1C} \\approx 1.58\\cdot10^{-6}$ стерадиан"
   ]
  },
  {
   "cell_type": "markdown",
   "metadata": {},
   "source": [
    "## Сведения о типах проекций небесной сферы, используемых в камерах **KEO** и **S1C**, а также об угловых разрешениях\n",
    "Здесь и далее будем считать, что камеры направлены строго в направлении Зенита"
   ]
  },
  {
   "cell_type": "markdown",
   "metadata": {},
   "source": [
    "### Камера **KEO**\n",
    "Используется т.н. зенитная эквидистантная (Zenithal equidistant (ARC) projection) проекция, в которой меридианы поделены на равные части, что дает равноудаленные параллели.  \n",
    "![ARC projection](http://www.aanda.org/articles/aa/full/2002/45/aah3860/img245.gif)\n",
    "В этой проекции расстояние в пикселях от центра кадра до точки с зенитным углом $\\theta$ определяется по формуле: $r(\\theta)= A \\cdot \\theta$, где $A=const\\approx3.575 \\frac{pix}{^{\\circ}}$ (для кадров снятых с бинированием 4x4, разрешением 511x511 пикселей).  \n",
    "Угловое разрешение по зенитному углу $\\rho_{\\theta}(\\theta)=\\frac{dr}{d\\theta}=A=const$. То есть можно сказать, что камера имеет фиксированной разрешение 3.575 пикселя на один градус зенитного угла (204.83 пикселей на радиан). Или 0.28 градуса телесного угла на один пиксель (0.00488 радиан на один пиксель).    \n",
    "$\\Delta\\theta_{pix} = \\frac {1}{\\rho_{\\theta}(\\theta)}=\\frac {1}{A} = 0.28 \\frac {^{\\circ}}{pix} = 0.00488 \\frac {rad}{pix}$ - зенитный угол одного пикселя.  \n",
    "Угловое разрешение по азимуту $\\rho_{\\varphi}(\\theta)=r(\\theta)=A \\cdot \\theta$.  \n",
    "$\\Delta\\varphi_{pix}(\\theta)=\\frac{1}{\\rho_{\\varphi}(\\theta)}=\\frac{1}{A\\cdot\\theta}=\\frac{\\Delta\\theta_{pix}}{\\theta}$ - азимут одного пикселя.\n",
    "\n",
    "Поле зрения объектива можно определить по формуле $D^{KEO}=\\frac{511}{A}\\approx142.94^{\\circ}$ ($150^{\\circ}$ по спецификации)"
   ]
  },
  {
   "cell_type": "code",
   "execution_count": 5,
   "metadata": {
    "collapsed": false
   },
   "outputs": [
    {
     "name": "stdout",
     "output_type": "stream",
     "text": [
      "A_keo =  3.575\n",
      "A_keo_rad = 204.83241175926932\n",
      "Δθ_pix_deg = 0.2797202797202797\n",
      "Δθ_pix_rad = 0.0048820398657184036\n",
      "D = 142.93706293706293 deg\n"
     ]
    }
   ],
   "source": [
    "# Расчет:\n",
    "A_keo=3.575\n",
    "print('A_keo = ',str(A_keo))\n",
    "print('A_keo_rad =',(A_keo/np.pi*180))\n",
    "Δθ_pix_keo=1/A_keo\n",
    "print('Δθ_pix_deg = '+str(Δθ_pix_keo))\n",
    "Δθ_pix_keo=Δθ_pix_keo*np.pi/180\n",
    "print('Δθ_pix_rad = '+str(Δθ_pix_keo))\n",
    "D_keo_deg=511/A_keo\n",
    "print('D = '+str(D_keo_deg)+' deg')"
   ]
  },
  {
   "cell_type": "code",
   "execution_count": 6,
   "metadata": {
    "collapsed": false
   },
   "outputs": [],
   "source": [
    "def res_theta_keo(θ):\n",
    "    A=3.575/np.pi*180\n",
    "    ρ_θ=A\n",
    "    return ρ_θ\n",
    "def res_phi_keo(θ):\n",
    "    A=3.575/np.pi*180\n",
    "    ρ_φ=A*θ\n",
    "    return ρ_φ"
   ]
  },
  {
   "cell_type": "markdown",
   "metadata": {},
   "source": [
    "Зная разрешение по зенитному углу ($\\rho_{\\theta}$) и разрешение по азимуту ($\\rho_{\\varphi}$) несложно определить общее угловое разрешение "
   ]
  },
  {
   "cell_type": "code",
   "execution_count": 7,
   "metadata": {
    "collapsed": true
   },
   "outputs": [],
   "source": [
    "def res_angular_keo(φ,θ):\n",
    "    Δθ=1/res_theta_keo(θ)\n",
    "    Δφ=1/res_phi_keo(θ)\n",
    "    x1,y1,z1=spheric2cart(1.,φ,θ)\n",
    "    x2,y2,z2=spheric2cart(1.,φ+Δφ,θ+Δθ)\n",
    "    ρ=1/np.arccos(1-0.5*((x2-x1)**2+(y2-y1)**2+(z2-z1)**2))\n",
    "    return ρ"
   ]
  },
  {
   "cell_type": "code",
   "execution_count": 8,
   "metadata": {
    "collapsed": false
   },
   "outputs": [
    {
     "data": {
      "image/png": "[encoded data removed]",
      "text/plain": [
       "<matplotlib.figure.Figure at 0x7f878480b6a0>"
      ]
     },
     "metadata": {},
     "output_type": "display_data"
    }
   ],
   "source": [
    "θ_axe=np.linspace(Δθ_pix_keo,255*Δθ_pix_keo,255)\n",
    "plt.plot(θ_axe*180/np.pi,1/res_angular_keo(0.*np.pi/180,θ_axe)*180/np.pi)\n",
    "plt.title(r'The inverse KEO matrix angular resolution vs. zenith angle')\n",
    "plt.xlabel(r'$\\theta, ^{\\circ}$')\n",
    "plt.ylabel(r'1/$\\rho, ^{\\circ}$')\n",
    "plt.grid()\n",
    "plt.show()"
   ]
  },
  {
   "cell_type": "markdown",
   "metadata": {},
   "source": [
    "Из рисунка **выше** видно, что угловое разрешение $\\rho$ матрицы камеры **KEO** увеличивается с увеличением зенитного угла c $1/0.47^{\\circ}$ до $1/0.35^{\\circ}$.  \n",
    "В спецификации к камере сказано, что оптика KEO Sentinel в центре кадра имеет разрешение $1/0.1^{\\circ}$, а на краю кадра - $1/0.5^{\\circ}$, т.е. разрешение оптики уменьшается к краю. Получается противоположная динамика."
   ]
  },
  {
   "cell_type": "markdown",
   "metadata": {},
   "source": [
    "### Камера **S1C**\n",
    "Используется т.н. гномоническая (Gnomonic (TAN) projection) проекция.  \n",
    "![TAN projection](http://www.aanda.org/articles/aa/full/2002/45/aah3860/img220.gif)\n",
    "В этой проекции расстояние в пикселях от центра кадра до точки с зенитным углом $\\theta$ определяется по формуле: $r(\\theta)= A \\cdot \\tan(\\theta)$, где $A=const\\approx13.97 \\frac{pix}{^{\\circ}}=800.42 \\frac{pix}{rad}$ (для кадров снятых с бинированием 2x2, разрешением 288x288 пикселей). Обратная величина - 0.072 градуса телесного угла на один пиксель (0.00125 радиан на один пиксель).  \n",
    "Угловое разрешение по зенитному углу $\\rho_{\\theta}(\\theta)=\\frac{dr}{d\\theta}=\\frac{A}{\\cos^2(\\theta)}$.  \n",
    "$\\Delta\\theta_{pix}(\\theta) = \\frac {1}{\\rho(\\theta)} = \\frac{\\cos^2(\\theta)}{A}=0.072 \\cos^2(\\theta) \\frac {^{\\circ}}{pix} = 0.00125 \\cos^2(\\theta) \\frac {rad}{pix}$ - зенитный угол одного пикселя.  \n",
    "Угловое разрешение по азимуту $\\rho_{\\varphi}(\\theta)=r(\\theta)=A \\cdot \\tan(\\theta)$.  \n",
    "$\\Delta\\varphi_{pix}(\\theta)=\\frac{1}{\\rho_{\\varphi}(\\theta)}=\\frac{1}{A\\cdot\\tan(\\theta)}$ - азимут одного пикселя.\n",
    "\n",
    "Поле зрения объектива можно определить по формуле $D^{S1C}=2\\arctan(\\frac{144}{A})\\approx20.40^{\\circ}$ ($25.8^{\\circ}$ по спецификации)"
   ]
  },
  {
   "cell_type": "code",
   "execution_count": 9,
   "metadata": {
    "collapsed": false
   },
   "outputs": [
    {
     "name": "stdout",
     "output_type": "stream",
     "text": [
      "A_s1c= 13.97\n",
      "A_s1c_rad = 800.42203979776\n",
      "Δθ_pix_deg=0.07158196134574087\n",
      "Δθ_pix_rad=0.0012493409105184892\n",
      "D = 20.3974128279 deg\n"
     ]
    }
   ],
   "source": [
    "# Расчет:\n",
    "A_s1c=13.97\n",
    "print('A_s1c=',str(A_s1c))\n",
    "print('A_s1c_rad =',(A_s1c/np.pi*180))\n",
    "Δθ_pix_s1c=1/A_s1c\n",
    "print('Δθ_pix_deg='+str(Δθ_pix_s1c))\n",
    "Δθ_pix_s1c=Δθ_pix_s1c*np.pi/180\n",
    "print('Δθ_pix_rad='+str(Δθ_pix_s1c))\n",
    "D_s1c_deg=2*np.arctan(144/A_s1c*np.pi/180)*180/np.pi\n",
    "print('D = '+str(D_s1c_deg)+' deg')"
   ]
  },
  {
   "cell_type": "code",
   "execution_count": 10,
   "metadata": {
    "collapsed": true
   },
   "outputs": [],
   "source": [
    "def res_theta_s1c(θ):\n",
    "    A=13.97/np.pi*180\n",
    "    ρ_θ=A/np.cos(θ)**2\n",
    "    return ρ_θ\n",
    "def res_phi_s1c(θ):\n",
    "    A=13.97/np.pi*180\n",
    "    ρ_φ=A*np.tan(θ)\n",
    "    return ρ_φ"
   ]
  },
  {
   "cell_type": "markdown",
   "metadata": {},
   "source": [
    "Зная разрешение по зенитному углу ($\\rho_{\\theta}$) и разрешение по азимуту ($\\rho_{\\varphi}$) несложно определить общее угловое разрешение "
   ]
  },
  {
   "cell_type": "code",
   "execution_count": 11,
   "metadata": {
    "collapsed": true
   },
   "outputs": [],
   "source": [
    "def res_angular_s1c(φ,θ):\n",
    "    Δθ=1/res_theta_s1c(θ)\n",
    "    Δφ=1/res_phi_s1c(θ)\n",
    "    x1,y1,z1=spheric2cart(1.,φ,θ)\n",
    "    x2,y2,z2=spheric2cart(1.,φ+Δφ,θ+Δθ)\n",
    "    ρ=1/np.arccos(1-0.5*((x2-x1)**2+(y2-y1)**2+(z2-z1)**2))\n",
    "    return ρ"
   ]
  },
  {
   "cell_type": "code",
   "execution_count": 12,
   "metadata": {
    "collapsed": false
   },
   "outputs": [
    {
     "data": {
      "image/png": "[encoded data removed]",
      "text/plain": [
       "<matplotlib.figure.Figure at 0x7f878261d828>"
      ]
     },
     "metadata": {},
     "output_type": "display_data"
    }
   ],
   "source": [
    "θ_axe=np.linspace(Δθ_pix_s1c,144*Δθ_pix_s1c,144)\n",
    "plt.plot(θ_axe*180/np.pi,1/res_angular_s1c(0.*np.pi/180,θ_axe)*180/np.pi,'r')\n",
    "plt.title(r'The inverse S1C matrix angular resolution vs. zenith angle')\n",
    "plt.xlabel(r'$\\theta, ^{\\circ}$')\n",
    "plt.ylabel(r'1/$\\rho, ^{\\circ}$')\n",
    "plt.grid()\n",
    "plt.show()"
   ]
  },
  {
   "cell_type": "markdown",
   "metadata": {},
   "source": [
    "Из рисунка **выше** видно, что угловое разрешение $\\rho$ матрицы камеры **S1C** увеличивается с увеличением зенитного угла c $1/0.121^{\\circ}$ до $1/0.98^{\\circ}$."
   ]
  },
  {
   "cell_type": "markdown",
   "metadata": {},
   "source": [
    "## Способ №2: из формулы для полного телесного угла для объектива с заданным полем зрения"
   ]
  },
  {
   "cell_type": "markdown",
   "metadata": {},
   "source": [
    "Как известно телесный угол, образуемый конусом с углом раскрыва $2\\theta$ вычисляется по формуле: $$\\Omega=2\\pi(1-\\cos(\\theta))$$\n",
    "    Эта формула сразу дает возможность посчитать телесный угол центрального пикселя по известному угловому разрешению $\\rho(\\theta)$:\n",
    "$$ \\Omega_{pix}\\approx\\frac{4}{\\pi}2\\pi(1-\\cos(\\frac{1}{2\\rho(\\theta)}))=8(1-\\cos(\\frac{1}{2\\rho(\\theta)}))$$\n",
    "Множитель $\\frac{4}{\\pi}$ возникает из-за того, что основание конуса - круг, а пиксель квадратный. Это отношение их площадей."
   ]
  },
  {
   "cell_type": "code",
   "execution_count": 13,
   "metadata": {
    "collapsed": false
   },
   "outputs": [
    {
     "name": "stdout",
     "output_type": "stream",
     "text": [
      "Ω_pix_keo_m2_center=23.8343014152·10^(-6) sr\n",
      "Ω_pix_s1c_m2_center=1.56084778702·10^(-6) sr\n"
     ]
    }
   ],
   "source": [
    "# Расчет для KEO:\n",
    "Ω_pix_keo_m2_center=8*(1-np.cos(1/2/res_theta_keo(0.)))\n",
    "print('Ω_pix_keo_m2_center='+str(Ω_pix_keo_m2_center*10**6)+'·10^(-6) sr')\n",
    "# Расчет для S1C:\n",
    "Ω_pix_s1c_m2_center=8*(1-np.cos(1/2/res_theta_s1c(Δθ_pix_s1c)))\n",
    "print('Ω_pix_s1c_m2_center='+str(Ω_pix_s1c_m2_center*10**6)+'·10^(-6) sr')"
   ]
  },
  {
   "cell_type": "markdown",
   "metadata": {},
   "source": [
    "**Получили** телесный угол центрального пикселя для **KEO** вторым способом:  \n",
    "$\\Omega_{pix}^{KEO} \\approx 23.83\\cdot10^{-6}$ стерадиан\n",
    "\n",
    "**Получили** телесный угол центрального пикселя для **S1C** вторым способом:  \n",
    "$\\Omega_{pix}^{S1C} \\approx 1.56\\cdot10^{-6}$ стерадиан"
   ]
  },
  {
   "cell_type": "markdown",
   "metadata": {},
   "source": [
    "Чтобы получить выражение для телесного угла произвольного пикселя, нужно посмотреть как получается формула $\\Omega=2\\pi(1-\\cos(\\theta))$:\n",
    "![eq_int](https://wikimedia.org/api/rest_v1/media/math/render/svg/103f2678161ee6af0c7ae9457d771625325c54e1)\n",
    "Видно, что приращение телесного угла $d\\Omega=2\\pi\\sin(\\theta)d\\theta$\n",
    "\n",
    "Получаем, что телесный угол одного пикселя в зависимости от величины зенитного угла определяется как:\n",
    "$$ \\Omega_{pix} (\\theta)= 2\\pi \\sin(\\theta) \\frac{\\Delta\\theta_{pix}(\\theta)}{N(\\theta)} $$\n",
    "где $N(\\theta)=2\\pi r(\\theta)$ - число пикселей внутри кольца шириной $\\Delta\\theta_{pix}$ (шириной в один пиксель), т.е. зенитный угол которых находится в диапазоне $[\\theta, \\theta+\\Delta\\theta_{pix}]$.\n",
    "$$ \\Omega_{pix} (\\theta)= \\sin(\\theta) \\frac{\\Delta\\theta_{pix}(\\theta)}{r(\\theta)} $$"
   ]
  },
  {
   "cell_type": "markdown",
   "metadata": {},
   "source": [
    "### Тогда для **KEO**:\n",
    "$$\\Delta\\theta_{pix}(\\theta)=\\Delta\\theta_{pix}=\\frac{1}{A}$$\n",
    "$$r(\\theta)=A\\cdot\\theta$$\n",
    "$$ \\Omega_{pix}^{KEO} (\\theta)=\\frac{1}{A^2}\\frac{\\sin(\\theta)}{\\theta}$$"
   ]
  },
  {
   "cell_type": "code",
   "execution_count": 14,
   "metadata": {
    "collapsed": false
   },
   "outputs": [
    {
     "name": "stdout",
     "output_type": "stream",
     "text": [
      "Ω_pix_keo_m2_center = 23.8342185715·10^(-6) sr\n",
      "Ω_pix_keo_m2_bord = 18.0384453267·10^(-6) sr\n",
      "Ω_pix_keo_m2_glow = 22.2967446323·10^(-6) sr\n"
     ]
    }
   ],
   "source": [
    "# Расчет KEO:\n",
    "def solid_angle_keo(θ):\n",
    "    A=3.575/np.pi*180\n",
    "    sol_angle=(1/A**2)*np.sin(θ)/θ\n",
    "    return sol_angle\n",
    "print('Ω_pix_keo_m2_center = '+str(solid_angle_keo(Δθ_pix_keo)*10**6)+'·10^(-6) sr')\n",
    "print('Ω_pix_keo_m2_bord = '+str(solid_angle_keo(72*np.pi/180)*10**6)+'·10^(-6) sr')\n",
    "print('Ω_pix_keo_m2_glow = '+str(solid_angle_keo(36*np.pi/180)*10**6)+'·10^(-6) sr')"
   ]
  },
  {
   "cell_type": "markdown",
   "metadata": {},
   "source": [
    "**Получили** телесный угол для камеры **KEO** вторым способом *в зависимости от зенитного угла*:  \n",
    "$\\Omega_{pix}^{KEO} (72^{\\circ})\\approx 18.038\\cdot10^{-6}$ стерадиан - для пикселя на границе кадра - **75.68% (-24.32%)** от телесного угла центрального пикселя;  \n",
    "$\\Omega_{pix}^{KEO} (36^{\\circ})\\approx 22.297\\cdot10^{-6}$ стерадиан - для пикселя в области искусственного свечения - **93.55% (-6.45%)** от телесного угла центрального пикселя."
   ]
  },
  {
   "cell_type": "markdown",
   "metadata": {},
   "source": [
    "### Тогда для **S1C**:\n",
    "$$\\Delta\\theta_{pix}(\\theta)=\\frac{\\cos^2(\\theta)}{A}$$\n",
    "$$r(\\theta)=A\\cdot\\tan(\\theta)$$\n",
    "$$ \\Omega_{pix}^{S1C} (\\theta)=\\frac{1}{A^2}\\frac{\\sin(\\theta)\\cos^2(\\theta)}{\\tan(\\theta)}=\\frac{1}{A^2}\\cos^3(\\theta)$$"
   ]
  },
  {
   "cell_type": "code",
   "execution_count": 15,
   "metadata": {
    "collapsed": false
   },
   "outputs": [
    {
     "name": "stdout",
     "output_type": "stream",
     "text": [
      "Ω_pix_s1c_m2_center = 1.56084905632·10^(-6) sr\n",
      "Ω_pix_s1c_m2_bord = 1.49078941286·10^(-6) sr\n",
      "Ω_pix_s1c_m2_glow = 1.54310188225·10^(-6) sr\n"
     ]
    }
   ],
   "source": [
    "# Расчет S1C:\n",
    "def solid_angle_s1c(θ):\n",
    "    A=13.97/np.pi*180\n",
    "    sol_angle=(1/A**2)*np.cos(θ)**3\n",
    "    return sol_angle\n",
    "print('Ω_pix_s1c_m2_center = '+str(solid_angle_s1c(Δθ_pix_s1c*np.cos(Δθ_pix_s1c)**2)*10**6)+'·10^(-6) sr')\n",
    "print('Ω_pix_s1c_m2_bord = '+str(solid_angle_s1c(10*np.pi/180)*10**6)+'·10^(-6) sr')\n",
    "print('Ω_pix_s1c_m2_glow = '+str(solid_angle_s1c(5*np.pi/180)*10**6)+'·10^(-6) sr')"
   ]
  },
  {
   "cell_type": "markdown",
   "metadata": {},
   "source": [
    "**Получили** телесный угол для камеры **S1C** вторым способом *в зависимости от зенитного угла*:  \n",
    "$\\Omega_{pix}^{S1C} (10^{\\circ})\\approx 1.4908\\cdot10^{-6}$ стерадиан - для пикселя на границе кадра - **95.51% (-4.49%)** от телесного угла центрального пикселя;  \n",
    "$\\Omega_{pix}^{S1C} (5^{\\circ})\\approx 1.5431\\cdot10^{-6}$ стерадиан - для пикселя на границе области искусственного свечения - **98.86% (-1.14%)** от телесного угла центрального пикселя."
   ]
  },
  {
   "cell_type": "markdown",
   "metadata": {},
   "source": [
    "## Способ №3: по расчитанным угловым разрешениям матриц"
   ]
  },
  {
   "cell_type": "markdown",
   "metadata": {},
   "source": [
    "Зная разрешение по зенитному углу ($\\rho_{\\theta}$) и разрешение по азимуту ($\\rho_{\\varphi}$) матриц можно посчитать и телесный угол одного пикселя:\n",
    "$$\\Omega_{pix} (\\theta)= \\int_{\\varphi}^{\\varphi+\\Delta\\varphi_{pix}}\\int_{\\theta}^{\\theta+\\Delta\\theta_{pix}} \\sin\\theta'd\\theta'd\\varphi'= 2\\Delta \\varphi_{pix}\\sin(\\theta+\\frac{\\Delta\\theta_{pix}}{2})sin\\frac{\\Delta\\theta_{pix}}{2}$$\n",
    "Вспомнив теперь, что $\\Delta\\theta_{pix}=\\frac{1}{\\rho_{\\theta}(\\theta)}$, а $\\Delta\\varphi_{pix}=\\frac{1}{\\rho_{\\varphi}(\\theta)}$, перепишем:\n",
    "$$ \\Omega_{pix} (\\theta)= \\frac{2}{\\rho_{\\varphi}(\\theta)}\\sin(\\theta+\\frac{1}{2\\rho_{\\theta}(\\theta)})\\sin\\frac{1}{2\\rho_{\\theta}(\\theta)}$$"
   ]
  },
  {
   "cell_type": "markdown",
   "metadata": {},
   "source": [
    "### Тогда для **KEO**:"
   ]
  },
  {
   "cell_type": "code",
   "execution_count": 16,
   "metadata": {
    "collapsed": false
   },
   "outputs": [
    {
     "name": "stdout",
     "output_type": "stream",
     "text": [
      "Ω_pix_keo_m2_center = 35.7511148303·10^(-6) sr\n",
      "Ω_pix_keo_m2_bord = 18.0526805733·10^(-6) sr\n",
      "Ω_pix_keo_m2_glow = 22.3715679732·10^(-6) sr\n"
     ]
    }
   ],
   "source": [
    "# Расчет KEO:\n",
    "def solid_angle_keo2(θ):\n",
    "    sol_angle=2/res_phi_keo(θ)*np.sin(θ+1/2/res_theta_keo(θ))*np.sin(1/2/res_theta_keo(θ))\n",
    "    return sol_angle\n",
    "print('Ω_pix_keo_m2_center = '+str(solid_angle_keo2(Δθ_pix_keo)*10**6)+'·10^(-6) sr')\n",
    "print('Ω_pix_keo_m2_bord = '+str(solid_angle_keo2(72*np.pi/180)*10**6)+'·10^(-6) sr')\n",
    "print('Ω_pix_keo_m2_glow = '+str(solid_angle_keo2(36*np.pi/180)*10**6)+'·10^(-6) sr')"
   ]
  },
  {
   "cell_type": "markdown",
   "metadata": {},
   "source": [
    "### Тогда для **S1C**:"
   ]
  },
  {
   "cell_type": "code",
   "execution_count": 17,
   "metadata": {
    "collapsed": false
   },
   "outputs": [
    {
     "name": "stdout",
     "output_type": "stream",
     "text": [
      "Ω_pix_s1c_m2_center = 2.34127267089·10^(-6) sr\n",
      "Ω_pix_s1c_m2_bord = 1.49591118707·10^(-6) sr\n",
      "Ω_pix_s1c_m2_glow = 1.55403556523·10^(-6) sr\n"
     ]
    }
   ],
   "source": [
    "# Расчет S1C:\n",
    "def solid_angle_s1c2(θ):\n",
    "    sol_angle=2/res_phi_s1c(θ)*np.sin(θ+1/2/res_theta_s1c(θ))*np.sin(1/2/res_theta_s1c(θ))\n",
    "    return sol_angle\n",
    "print('Ω_pix_s1c_m2_center = '+str(solid_angle_s1c2(Δθ_pix_s1c*np.cos(Δθ_pix_s1c)**2)*10**6)+'·10^(-6) sr')\n",
    "print('Ω_pix_s1c_m2_bord = '+str(solid_angle_s1c2(10*np.pi/180)*10**6)+'·10^(-6) sr')\n",
    "print('Ω_pix_s1c_m2_glow = '+str(solid_angle_s1c2(5*np.pi/180)*10**6)+'·10^(-6) sr')"
   ]
  },
  {
   "cell_type": "markdown",
   "metadata": {},
   "source": [
    "## Сравнение трех способов вычисления телесного угла одного пикселя на одном графике"
   ]
  },
  {
   "cell_type": "code",
   "execution_count": 33,
   "metadata": {
    "collapsed": false
   },
   "outputs": [
    {
     "data": {
      "image/png": "[encoded data removed]",
      "text/plain": [
       "<matplotlib.figure.Figure at 0x7f8782423b00>"
      ]
     },
     "metadata": {},
     "output_type": "display_data"
    }
   ],
   "source": [
    "fig=plt.figure(figsize=(12,4))\n",
    "ax1=plt.subplot(121)\n",
    "theta_ax1=np.linspace(Δθ_pix_keo,255*Δθ_pix_keo,255)\n",
    "keo_m1=plt.plot([0, 72],[Ω_pix_keo_m1*10**6, Ω_pix_keo_m1*10**6],'k',label='method 1')\n",
    "keo_m2=plt.plot(theta_ax1*180/np.pi,solid_angle_keo(theta_ax1)*10**6,label='method 2')\n",
    "keo_m3=plt.plot(theta_ax1*180/np.pi,solid_angle_keo2(theta_ax1)*10**6,label='method 3')\n",
    "plt.xlabel(r'$\\theta, ^{\\circ}$')\n",
    "plt.ylabel(r'$\\Omega_{pix}\\cdot10^6, sr$')\n",
    "plt.title('Pixel solid angle for KEO Sentinel')\n",
    "plt.grid()\n",
    "ax1.legend()\n",
    "\n",
    "ax2=plt.subplot(122)\n",
    "theta_ax2=np.linspace(Δθ_pix_s1c,144*Δθ_pix_s1c,144)\n",
    "s1c_m1=plt.plot([0, 10.2],[Ω_pix_s1c_m1*10**6, Ω_pix_s1c_m1*10**6],'k',label='method 1')\n",
    "s1c_m2=plt.plot(theta_ax2*180/np.pi,solid_angle_s1c(theta_ax2)*10**6,label='method 2')\n",
    "s1c_m3=plt.plot(theta_ax2*180/np.pi,solid_angle_s1c2(theta_ax2)*10**6,label='method 3')\n",
    "plt.xlabel(r'$\\theta, ^{\\circ}$')\n",
    "plt.ylabel(r'$\\Omega_{pix}\\cdot10^6, sr$')\n",
    "plt.title('Pixel solid angle for S1C')\n",
    "plt.grid()\n",
    "ax2.legend()\n",
    "\n",
    "plt.show()"
   ]
  },
  {
   "cell_type": "markdown",
   "metadata": {},
   "source": [
    "## Выводы:"
   ]
  },
  {
   "cell_type": "markdown",
   "metadata": {},
   "source": [
    "1. Телесный угол, приходящийся на один пиксель матрицы, **уменьшается к краю кадра** (на 25% для **KEO** и на 5% для **S1C** от значения в центре кадра). Это значит, что угловое разрешение, которое обеспечивает матрица, к краю кадра **увеличивается**, в отличие от углового разрешения, которое обеспечивается оптикой (угловое разрешение объективов уменьшается к краю кадра).\n",
    "2. В области кадра, где обычно наблюдается искусственное свечение, телесный угол одного пикселя всего лишь **на малую величину** меньше телесного угла в центре кадра (на **~6.5%** для **KEO** и на **~1.15%** для **S1C**).\n",
    "3. Ранее определенное эффективное фокусное расстояние для **KEO** ($f=6.34$ мм), видимо не совсем точно. Этим можно объяснить разницу между телесными углами центрального пикселя, вычисленными способами 1 и 2. Значение $f=6.06$ мм обеспечит величину $\\Omega_{pix}=23.85\\cdot10^6$ стерадиан.\n",
    "4. Первый способ определения телесного угла, приходящегося на один пиксель, строго подходит только для центрального пикселя и не учитывает зависимость телесного угла пикселя от зенитного расстояния.\n",
    "5. Зависимости величины телесного угла, приходящегося на один пиксель, вычисленные способами **2** и **3**, оказываются близки при значениях $\\theta$ начиная от $10^{\\circ}$ для **KEO** и от $1^{\\circ}$ для **S1C**, и практически совпадают при больших $\\theta$. При этом не вполне понятно, чем обусловлена разница между ними вблизи центра кадра."
   ]
  }
 ],
 "metadata": {
  "anaconda-cloud": {},
  "kernelspec": {
   "display_name": "Python 3",
   "language": "python",
   "name": "python3"
  },
  "language_info": {
   "codemirror_mode": {
    "name": "ipython",
    "version": 3
   },
   "file_extension": ".py",
   "mimetype": "text/x-python",
   "name": "python",
   "nbconvert_exporter": "python",
   "pygments_lexer": "ipython3",
   "version": "3.6.0"
  }
 },
 "nbformat": 4,
 "nbformat_minor": 1
}
