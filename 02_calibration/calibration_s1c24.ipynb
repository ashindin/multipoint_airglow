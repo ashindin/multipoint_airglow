{
 "cells": [
  {
   "cell_type": "code",
   "execution_count": 1,
   "metadata": {
    "collapsed": true
   },
   "outputs": [],
   "source": [
    "import numpy as np\n",
    "import matplotlib\n",
    "import matplotlib.pyplot as plt\n",
    "\n",
    "import fitsio\n",
    "from fitsio import FITS, FITSHDR\n",
    "import datetime\n",
    "from astropy import units as u\n",
    "from astropy.coordinates import SkyCoord, EarthLocation, AltAz\n",
    "import time"
   ]
  },
  {
   "cell_type": "raw",
   "metadata": {},
   "source": [
    "# %matplotlib inline"
   ]
  },
  {
   "cell_type": "code",
   "execution_count": 2,
   "metadata": {
    "collapsed": false
   },
   "outputs": [],
   "source": [
    "from some_func import cart2spheric, spheric2cart, spheric_coordinates_rotate, hor2pix_s1c, bright_relay_s1c"
   ]
  },
  {
   "cell_type": "code",
   "execution_count": 3,
   "metadata": {
    "collapsed": true
   },
   "outputs": [],
   "source": [
    "img_num=467\n",
    "# img_num=3351"
   ]
  },
  {
   "cell_type": "code",
   "execution_count": 4,
   "metadata": {
    "collapsed": true
   },
   "outputs": [],
   "source": [
    "pic_save_name='/home/ashindin/temp/' + \"{0:0>3}\".format(img_num) + '.png'"
   ]
  },
  {
   "cell_type": "code",
   "execution_count": 5,
   "metadata": {
    "collapsed": true
   },
   "outputs": [],
   "source": [
    "fit_filename='/mnt/Work_disk/Owncloud/0000_Two_points/DATA/01_S1C/140824/aug24red15bin2_0' + \"{0:0>3}\".format(img_num) + '.fit'\n",
    "dark_filename='/mnt/Work_disk/Owncloud/0000_Two_points/DATA/01_S1C/140824/dark/s1c_aug24_dark_median.fit'\n",
    "BS6300_catalog_filename='Haritonov_6300BS_catalog.npz'"
   ]
  },
  {
   "cell_type": "code",
   "execution_count": 6,
   "metadata": {
    "collapsed": false
   },
   "outputs": [],
   "source": [
    "# Координаты расположения S1C\n",
    "lat_s1c=56.1501667 # ШИРОТА\n",
    "lon_s1c=46.1050833 # ДОЛГОТА\n",
    "h_s1c=183.0\n",
    "S1C_site=EarthLocation(lat=lat_s1c*u.deg, lon=lon_s1c*u.deg, height=h_s1c*u.m)\n",
    "\n",
    "# Ориентация S1C - 24 августа\n",
    "az0_s1c = 5.25221062496641;\n",
    "alt0_s1c = 1.5541049224175232;\n",
    "a_s1c = (-0.2348695544502367, 0.0004395865611329251, 0.001172237836255852)\n",
    "b_s1c = (0.10820004418209775, -0.0011720136387002968, 0.000437125282422439)\n",
    "c_s1c = ( 146.55099832248433, 279.114199528675, -748.5277665569147)\n",
    "d_s1c = ( 145.4040578902056, 748.3731317338136, 280.7000564862628)"
   ]
  },
  {
   "cell_type": "code",
   "execution_count": 7,
   "metadata": {
    "collapsed": false
   },
   "outputs": [
    {
     "name": "stdout",
     "output_type": "stream",
     "text": [
      "['HARITONOV_ID' 'BS_ID' 'RA (icrs, deg)' 'DEC (icrs, deg)' 'MAG_V'\n",
      " '6300 Flux (erg/(sm^2 * s *  sm))']\n"
     ]
    }
   ],
   "source": [
    "npzfile=np.load(BS6300_catalog_filename)\n",
    "CAT_FIELDS=npzfile['CAT_FIELDS']\n",
    "CAT_6300BS=npzfile['CAT_6300BS']\n",
    "CAT_SPTYPE=npzfile['CAT_SPTYPE']\n",
    "print(CAT_FIELDS)"
   ]
  },
  {
   "cell_type": "code",
   "execution_count": 8,
   "metadata": {
    "collapsed": false
   },
   "outputs": [
    {
     "name": "stdout",
     "output_type": "stream",
     "text": [
      "2014-08-24 19:39:39.504000\n"
     ]
    }
   ],
   "source": [
    "fitfile=fitsio.FITS(fit_filename)\n",
    "img=fitfile[0].read()\n",
    "dark=fitsio.read(dark_filename)\n",
    "img=img.astype('d')-dark.astype('d')\n",
    "header=fitfile[0].read_header()\n",
    "fitfile.close()\n",
    "date_obs_str=header['COMMENT'][7:31]\n",
    "if date_obs_str[16]==' ':\n",
    "    date_obs_str=date_obs_str[0:16] + '0' + date_obs_str[17:24]\n",
    "if date_obs_str[17]==' ':\n",
    "    date_obs_str=date_obs_str[0:17] + '0' + date_obs_str[18:24]\n",
    "date_obs=datetime.datetime.strptime(date_obs_str,\"%b %d %H:%M:%S.%f %Y\") - datetime.timedelta(seconds=7.5) - datetime.timedelta(hours=4)\n",
    "print(date_obs)"
   ]
  },
  {
   "cell_type": "code",
   "execution_count": 9,
   "metadata": {
    "collapsed": false
   },
   "outputs": [],
   "source": [
    "BS_coord=SkyCoord(CAT_6300BS[:,2], CAT_6300BS[:,3], frame='icrs', unit='deg');\n",
    "\n",
    "altaz=BS_coord.transform_to(AltAz(obstime=date_obs, location=S1C_site,temperature=15*u.deg_C,pressure=1013*u.hPa,\n",
    "                                       relative_humidity=0.5,obswl=630.0*u.nm))\n",
    "BS_AzAlt=np.zeros((np.size(CAT_6300BS,0),2))\n",
    "BS_AzAlt[:,0]=altaz.az.degree\n",
    "BS_AzAlt[:,1]=altaz.alt.degree"
   ]
  },
  {
   "cell_type": "code",
   "execution_count": 10,
   "metadata": {
    "collapsed": false
   },
   "outputs": [],
   "source": [
    "BS_xy=np.zeros((np.size(CAT_6300BS,0),2))\n",
    "BS_xy[:,0], BS_xy[:,1] = hor2pix_s1c (BS_AzAlt[:,0]*np.pi/180,BS_AzAlt[:,1]*np.pi/180, az0_s1c, alt0_s1c, c_s1c, d_s1c)"
   ]
  },
  {
   "cell_type": "code",
   "execution_count": 11,
   "metadata": {
    "collapsed": false
   },
   "outputs": [],
   "source": [
    "# Catalog filtration\n",
    "filt_mask=np.zeros(np.size(CAT_6300BS,0),dtype=bool)\n",
    "for i in range(0,np.size(CAT_6300BS,0)):\n",
    "    if BS_AzAlt[i,1]>=85.0:\n",
    "        if BS_xy[i,0]>=1 and BS_xy[i,0]<=288:\n",
    "            if BS_xy[i,1]>=1 and BS_xy[i,1]<=288:\n",
    "                filt_mask[i]=True\n",
    "BS_AzAlt_filt=BS_AzAlt[filt_mask,:]\n",
    "BS_xy_filt=BS_xy[filt_mask,:]\n",
    "CAT_6300BS_filt=CAT_6300BS[filt_mask,:]\n",
    "CAT_SPTYPE_filt=CAT_SPTYPE[filt_mask]"
   ]
  },
  {
   "cell_type": "code",
   "execution_count": 12,
   "metadata": {
    "collapsed": false
   },
   "outputs": [
    {
     "data": {
      "text/plain": [
       "1"
      ]
     },
     "execution_count": 12,
     "metadata": {},
     "output_type": "execute_result"
    }
   ],
   "source": [
    "np.size(BS_xy_filt,0)"
   ]
  },
  {
   "cell_type": "code",
   "execution_count": 13,
   "metadata": {
    "collapsed": false
   },
   "outputs": [
    {
     "data": {
      "text/plain": [
       "array([ 466.])"
      ]
     },
     "execution_count": 13,
     "metadata": {},
     "output_type": "execute_result"
    }
   ],
   "source": [
    "CAT_6300BS_filt[:,0]"
   ]
  },
  {
   "cell_type": "code",
   "execution_count": 14,
   "metadata": {
    "collapsed": false
   },
   "outputs": [
    {
     "data": {
      "text/plain": [
       "193.0"
      ]
     },
     "execution_count": 14,
     "metadata": {},
     "output_type": "execute_result"
    }
   ],
   "source": [
    "np.median(img)"
   ]
  },
  {
   "cell_type": "code",
   "execution_count": 15,
   "metadata": {
    "collapsed": false
   },
   "outputs": [
    {
     "data": {
      "text/plain": [
       "(178, 135)"
      ]
     },
     "execution_count": 15,
     "metadata": {},
     "output_type": "execute_result"
    }
   ],
   "source": [
    "int(BS_xy_filt[:,0][0]),int(BS_xy_filt[:,1][0])"
   ]
  },
  {
   "cell_type": "code",
   "execution_count": 16,
   "metadata": {
    "collapsed": false
   },
   "outputs": [
    {
     "data": {
      "image/png": "[encoded data removed]",
      "text/plain": [
       "<matplotlib.figure.Figure at 0x7f47f203deb8>"
      ]
     },
     "metadata": {},
     "output_type": "display_data"
    }
   ],
   "source": [
    "area_rad=3\n",
    "\n",
    "fig=plt.figure(figsize=(12,12))\n",
    "ax = plt.subplot(111)\n",
    "# plt.imshow(img, cmap=\"gray\", vmin=300, vmax=900)\n",
    "plt.pcolormesh(img, cmap=\"gray\", vmin=np.median(img)-100, vmax=np.median(img)+100)\n",
    "\n",
    "plt.plot(BS_xy_filt[:,0],BS_xy_filt[:,1],color=\"r\",marker=\".\", lw=0.,mec=\"r\", mfc=\"r\")\n",
    "\n",
    "ax.set_xlim([178-area_rad,178+area_rad]);\n",
    "ax.set_ylim([135+area_rad,135-area_rad]);\n",
    "\n",
    "# ax.set_xlim([178-10,178+10]);\n",
    "# ax.set_ylim([135+10,135-10]);\n",
    "\n",
    "\n",
    "# ax.set_xlim((1,288))\n",
    "# ax.set_ylim((288,1))\n",
    "# plt.colorbar\n",
    "plt.show()"
   ]
  },
  {
   "cell_type": "code",
   "execution_count": 17,
   "metadata": {
    "collapsed": true
   },
   "outputs": [],
   "source": [
    "img_red_st_int=np.zeros(np.size(BS_xy_filt,0))\n",
    "img_red_st_num=np.zeros(np.size(BS_xy_filt,0))\n",
    "BS_adc_filt=np.zeros(np.size(BS_xy_filt,0))\n",
    "area_rad=3\n",
    "for j in range(np.size(BS_xy_filt,0)):    \n",
    "    st_x=BS_xy_filt[j,0]\n",
    "    st_y=BS_xy_filt[j,1]\n",
    "    area=img[int(st_y)-area_rad:int(st_y)+area_rad+1, int(st_x)-area_rad:int(st_x)+area_rad+1]\n",
    "\n",
    "    sum_temp=0.0\n",
    "    num=0\n",
    "    med=np.median(area)\n",
    "    for i in range(len(area.flat)):\n",
    "        if area.flat[i]>=1.3*med:\n",
    "            num+=1\n",
    "            sum_temp+=area.flat[i]-med\n",
    "    img_red_st_int[j]=sum_temp\n",
    "    img_red_st_num[j]=num\n",
    "    if num>0:\n",
    "        BS_adc_filt[j]=sum_temp/num"
   ]
  },
  {
   "cell_type": "code",
   "execution_count": 18,
   "metadata": {
    "collapsed": false
   },
   "outputs": [
    {
     "name": "stdout",
     "output_type": "stream",
     "text": [
      "[ 754.66666667]\n"
     ]
    }
   ],
   "source": [
    "print(BS_adc_filt[:])"
   ]
  },
  {
   "cell_type": "code",
   "execution_count": 19,
   "metadata": {
    "collapsed": false
   },
   "outputs": [
    {
     "name": "stdout",
     "output_type": "stream",
     "text": [
      "[ 6.]\n"
     ]
    }
   ],
   "source": [
    "print(img_red_st_num)"
   ]
  },
  {
   "cell_type": "code",
   "execution_count": 27,
   "metadata": {
    "collapsed": false
   },
   "outputs": [
    {
     "data": {
      "text/plain": [
       "0.0046449999999999998"
      ]
     },
     "execution_count": 27,
     "metadata": {},
     "output_type": "execute_result"
    }
   ],
   "source": [
    "CAT_6300BS_filt[i,5]"
   ]
  },
  {
   "cell_type": "code",
   "execution_count": 28,
   "metadata": {
    "collapsed": false
   },
   "outputs": [
    {
     "name": "stdout",
     "output_type": "stream",
     "text": [
      "[[  199.   161.   210.   204.   198.   213.   205.]\n",
      " [  195.   196.   218.   212.   221.   213.   197.]\n",
      " [  207.   204.   234.   445.   594.   226.   208.]\n",
      " [  208.   208.   310.  2765.  1264.   235.   205.]\n",
      " [  206.   209.   256.   398.   266.   203.   205.]\n",
      " [  198.   219.   206.   209.   204.   200.   209.]\n",
      " [  205.   198.   201.   215.   204.   190.   195.]]\n"
     ]
    }
   ],
   "source": [
    "print(area)"
   ]
  },
  {
   "cell_type": "code",
   "execution_count": 20,
   "metadata": {
    "collapsed": true
   },
   "outputs": [],
   "source": [
    "BS_relay=np.zeros(np.size(BS_xy_filt,0))\n",
    "R_adc_coef=np.zeros(np.size(BS_xy_filt,0))\n",
    "for i in range(np.size(BS_xy_filt,0)):\n",
    "     if img_red_st_num[i]>3:\n",
    "            BS_relay[i]=bright_relay_s1c(CAT_6300BS_filt[i,5],img_red_st_num[i])\n",
    "            if BS_adc_filt[i]>0 and BS_relay[i]>100:\n",
    "                R_adc_coef[i]=BS_relay[i]/BS_adc_filt[i]"
   ]
  },
  {
   "cell_type": "code",
   "execution_count": 21,
   "metadata": {
    "collapsed": false
   },
   "outputs": [
    {
     "name": "stdout",
     "output_type": "stream",
     "text": [
      "[ 1950.93558755]\n"
     ]
    }
   ],
   "source": [
    "print(BS_relay)"
   ]
  },
  {
   "cell_type": "code",
   "execution_count": 24,
   "metadata": {
    "collapsed": false
   },
   "outputs": [
    {
     "data": {
      "image/png": "[encoded data removed]",
      "text/plain": [
       "<matplotlib.figure.Figure at 0x7f47f29e20f0>"
      ]
     },
     "metadata": {},
     "output_type": "display_data"
    }
   ],
   "source": [
    "fig,ax = plt.subplots()\n",
    "plt.scatter(BS_relay,BS_adc_filt,s=np.pi*(img_red_st_num)**2)\n",
    "ax.set_xlim((100, 3000))\n",
    "ax.set_ylim((100, 3000))\n",
    "plt.show()"
   ]
  },
  {
   "cell_type": "code",
   "execution_count": 25,
   "metadata": {
    "collapsed": false
   },
   "outputs": [
    {
     "name": "stdout",
     "output_type": "stream",
     "text": [
      "[ 2.585162]\n",
      "2.58516199764\n"
     ]
    }
   ],
   "source": [
    "print(R_adc_coef[R_adc_coef.nonzero()])\n",
    "R_median=np.median(R_adc_coef[R_adc_coef.nonzero()])\n",
    "print(R_median)"
   ]
  },
  {
   "cell_type": "code",
   "execution_count": 26,
   "metadata": {
    "collapsed": false
   },
   "outputs": [
    {
     "data": {
      "image/png": "[encoded data removed]",
      "text/plain": [
       "<matplotlib.figure.Figure at 0x7f47f4b0d2b0>"
      ]
     },
     "metadata": {},
     "output_type": "display_data"
    }
   ],
   "source": [
    "fig,ax = plt.subplots()\n",
    "plt.plot([0, 5000], [R_median, R_median], c='r', lw=2)\n",
    "plt.scatter(BS_relay,R_adc_coef,s=np.pi*(img_red_st_num)**2)\n",
    "plt.ylabel('Calibration coef. [R/ADCu]')\n",
    "plt.xlabel('Star brightness per pixel [R]')\n",
    "plt.title(date_obs, loc='left')\n",
    "plt.title(R_median, loc='right')\n",
    "ax.set_xlim((100, 3000))\n",
    "ax.set_ylim((0, 5))\n",
    "plt.show()\n",
    "# plt.savefig(pic_save_name)"
   ]
  }
 ],
 "metadata": {
  "kernelspec": {
   "display_name": "Python 3",
   "language": "python",
   "name": "python3"
  },
  "language_info": {
   "codemirror_mode": {
    "name": "ipython",
    "version": 3
   },
   "file_extension": ".py",
   "mimetype": "text/x-python",
   "name": "python",
   "nbconvert_exporter": "python",
   "pygments_lexer": "ipython3",
   "version": "3.6.0"
  }
 },
 "nbformat": 4,
 "nbformat_minor": 0
}
