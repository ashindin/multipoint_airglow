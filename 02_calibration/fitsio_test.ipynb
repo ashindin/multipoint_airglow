{
 "cells": [
  {
   "cell_type": "code",
   "execution_count": 1,
   "metadata": {
    "collapsed": true
   },
   "outputs": [],
   "source": [
    "filename='/mnt/Work_disk/Owncloud/0000_Two_points/DATA/01_S1C/140824/aug24red15bin2_0515.fit'"
   ]
  },
  {
   "cell_type": "code",
   "execution_count": 2,
   "metadata": {
    "collapsed": true
   },
   "outputs": [],
   "source": [
    "import fitsio\n",
    "from fitsio import FITS, FITSHDR"
   ]
  },
  {
   "cell_type": "code",
   "execution_count": 3,
   "metadata": {
    "collapsed": true
   },
   "outputs": [],
   "source": [
    "data=fitsio.read(filename)"
   ]
  },
  {
   "cell_type": "code",
   "execution_count": 4,
   "metadata": {
    "collapsed": false
   },
   "outputs": [
    {
     "data": {
      "text/plain": [
       "array([[  476,   533,   538, ...,   519,   518,   517],\n",
       "       [  474,   534,   536, ...,   532,   525,   520],\n",
       "       [  480,   532,   537, ...,   527,   519,   518],\n",
       "       ..., \n",
       "       [  491,   552,   552, ...,   539,   525,   534],\n",
       "       [  486,   695,   553, ...,   532,   529,   524],\n",
       "       [-8106,     1,   524, ...,   477,   475,   478]], dtype=int16)"
      ]
     },
     "execution_count": 4,
     "metadata": {},
     "output_type": "execute_result"
    }
   ],
   "source": [
    "data"
   ]
  },
  {
   "cell_type": "code",
   "execution_count": 5,
   "metadata": {
    "collapsed": true
   },
   "outputs": [],
   "source": [
    "fits=fitsio.FITS(filename)"
   ]
  },
  {
   "cell_type": "code",
   "execution_count": 6,
   "metadata": {
    "collapsed": false
   },
   "outputs": [
    {
     "name": "stdout",
     "output_type": "stream",
     "text": [
      "\n",
      "  file: /mnt/Work_disk/Owncloud/0000_Two_points/DATA/01_S1C/140824/aug24red15bin2_0515.fit\n",
      "  mode: READONLY\n",
      "  extnum hdutype         hduname[v]\n",
      "  0      IMAGE_HDU       \n"
     ]
    }
   ],
   "source": [
    "print(fits)"
   ]
  },
  {
   "cell_type": "code",
   "execution_count": 8,
   "metadata": {
    "collapsed": false
   },
   "outputs": [],
   "source": [
    "h=fits[0].read_header()"
   ]
  },
  {
   "cell_type": "code",
   "execution_count": 9,
   "metadata": {
    "collapsed": false
   },
   "outputs": [
    {
     "data": {
      "text/plain": [
       "\n",
       "SIMPLE  =                    T\n",
       "BITPIX  =                   16\n",
       "NAXIS   =                    2\n",
       "NAXIS1  =                 288\n",
       "NAXIS2  =                 288\n",
       "COMMENT  Sun Aug 24 23:51:38 2014\n",
       "COMMENT  TBegExp = Sun Aug 24 23:51:17.095 2014\n",
       "EXPTIME = 15.000 cek\n",
       "DATE-OBS = Sun Aug 24 23:51:17.095 2014\n",
       "DATE-END = Sun Aug 24 23:51:32.131 2014"
      ]
     },
     "execution_count": 9,
     "metadata": {},
     "output_type": "execute_result"
    }
   ],
   "source": [
    "h"
   ]
  },
  {
   "cell_type": "code",
   "execution_count": 12,
   "metadata": {
    "collapsed": false
   },
   "outputs": [
    {
     "data": {
      "text/plain": [
       "fitsio.fitslib.FITSHDR"
      ]
     },
     "execution_count": 12,
     "metadata": {},
     "output_type": "execute_result"
    }
   ],
   "source": [
    "type(h)"
   ]
  },
  {
   "cell_type": "code",
   "execution_count": 11,
   "metadata": {
    "collapsed": false
   },
   "outputs": [
    {
     "data": {
      "text/plain": [
       "' = Sun Aug 24 23:51:32.131 2014'"
      ]
     },
     "execution_count": 11,
     "metadata": {},
     "output_type": "execute_result"
    }
   ],
   "source": [
    "h['COMMENT']"
   ]
  },
  {
   "cell_type": "code",
   "execution_count": 13,
   "metadata": {
    "collapsed": true
   },
   "outputs": [],
   "source": [
    "fits.close()"
   ]
  }
 ],
 "metadata": {
  "kernelspec": {
   "display_name": "Python 3",
   "language": "python",
   "name": "python3"
  },
  "language_info": {
   "codemirror_mode": {
    "name": "ipython",
    "version": 3
   },
   "file_extension": ".py",
   "mimetype": "text/x-python",
   "name": "python",
   "nbconvert_exporter": "python",
   "pygments_lexer": "ipython3",
   "version": "3.5.2"
  }
 },
 "nbformat": 4,
 "nbformat_minor": 1
}
