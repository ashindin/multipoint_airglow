{
 "cells": [
  {
   "cell_type": "code",
   "execution_count": 2,
   "metadata": {
    "collapsed": true
   },
   "outputs": [],
   "source": [
    "import numpy as np"
   ]
  },
  {
   "cell_type": "markdown",
   "metadata": {},
   "source": [
    "$F_\\lambda = \\frac {\\lambda} {h c} 10 ^{-0.4m_{V} - m_{0}} $"
   ]
  },
  {
   "cell_type": "markdown",
   "metadata": {},
   "source": [
    "$B^{экв}(R)=\\frac {4 \\pi} {10^6} F_{\\lambda} \\Delta \\lambda_{eff} \\frac {f^2} {s_m} = \n",
    "\\frac {4 \\pi} {10^6} \\frac {\\lambda} {h c} 10 ^{-0.4m_{V} - m_{0}} \\Delta \\lambda_{eff} \\frac {f^2} {n a_p}\n",
    "$\n",
    "\n",
    "$B^{экв}(R) = \n",
    "\\frac {4 \\pi} {10^6} \\frac {\\lambda \\Delta \\lambda_{eff} f^2} {h c a_p} \\frac {10 ^{-0.4m_{V} - m_{0}}} {n}$"
   ]
  },
  {
   "cell_type": "markdown",
   "metadata": {},
   "source": [
    "For **KEO**:\n",
    "\n",
    "$\\lambda = 6300 \\, A = 6.3 \\cdot 10 ^ {-5} \\, см$\n",
    "\n",
    "$ \\Delta \\lambda _{eff}=20 \\, A$\n",
    "\n",
    "$f^2 = (6.34 \\, мм)^2 = (0.634 \\, см)^2 = 0.401956\\, см^2$\n",
    "\n",
    "$a_{p} = (4 \\cdot 7.4 \\, мкм)^2 = 876.16 \\, мкм^2 = 876.16 \\cdot 10 ^ {-8} \\, см^{2}$\n",
    "\n",
    "$h= 6.626 \\cdot 10^{-27} \\, эрг \\cdot с$\n",
    "\n",
    "$c= 3 \\cdot 10^{10} \\frac {см}{с} $"
   ]
  },
  {
   "cell_type": "code",
   "execution_count": 3,
   "metadata": {
    "collapsed": false
   },
   "outputs": [
    {
     "data": {
      "text/plain": [
       "21.797410661863488"
      ]
     },
     "execution_count": 3,
     "metadata": {},
     "output_type": "execute_result"
    }
   ],
   "source": [
    "876.16/0.401956/100"
   ]
  },
  {
   "cell_type": "code",
   "execution_count": 3,
   "metadata": {
    "collapsed": false
   },
   "outputs": [
    {
     "name": "stdout",
     "output_type": "stream",
     "text": [
      "14\n"
     ]
    }
   ],
   "source": [
    "power=(-5)-(6-27+10-8)\n",
    "print(power)"
   ]
  },
  {
   "cell_type": "code",
   "execution_count": 9,
   "metadata": {
    "collapsed": false,
    "scrolled": true
   },
   "outputs": [
    {
     "name": "stdout",
     "output_type": "stream",
     "text": [
      "0.03654288376498915\n"
     ]
    }
   ],
   "source": [
    "# KEO\n",
    "print(((4*np.pi*6.3*20)/(6.626*3))/(876.16/0.401956))"
   ]
  },
  {
   "cell_type": "code",
   "execution_count": 13,
   "metadata": {
    "collapsed": false,
    "scrolled": true
   },
   "outputs": [
    {
     "name": "stdout",
     "output_type": "stream",
     "text": [
      "3.6542883764989145\n"
     ]
    }
   ],
   "source": [
    "# KEO\n",
    "print(((4*np.pi*6.3*20)/(6.626*3))/(21.797410661863487*100)*100)"
   ]
  },
  {
   "cell_type": "code",
   "execution_count": 14,
   "metadata": {
    "collapsed": false,
    "scrolled": true
   },
   "outputs": [
    {
     "name": "stdout",
     "output_type": "stream",
     "text": [
      "5.584673336106748\n"
     ]
    }
   ],
   "source": [
    "# KEO\n",
    "print(((4*np.pi*6.3*20)/(6.626*3))/(14.262969313609053*100)*100)"
   ]
  },
  {
   "cell_type": "code",
   "execution_count": 3,
   "metadata": {
    "collapsed": false,
    "scrolled": true
   },
   "outputs": [
    {
     "name": "stdout",
     "output_type": "stream",
     "text": [
      "3.5719293461623876\n"
     ]
    }
   ],
   "source": [
    "# KEO\n",
    "print(((4*np.pi*6.3*20)/(6.626*3))/(22.3*100)*100)"
   ]
  },
  {
   "cell_type": "code",
   "execution_count": 10,
   "metadata": {
    "collapsed": false
   },
   "outputs": [
    {
     "data": {
      "text/plain": [
       "2179.7410661863487"
      ]
     },
     "execution_count": 10,
     "metadata": {},
     "output_type": "execute_result"
    }
   ],
   "source": [
    "876.16/0.401956"
   ]
  },
  {
   "cell_type": "code",
   "execution_count": 4,
   "metadata": {
    "collapsed": false,
    "scrolled": true
   },
   "outputs": [
    {
     "name": "stdout",
     "output_type": "stream",
     "text": [
      "636.4421363998347\n",
      "17416.30848\n",
      "0.03654288376498914\n"
     ]
    }
   ],
   "source": [
    "# KEO\n",
    "temp1=4*np.pi*6.3*20*0.401956\n",
    "print(temp1)\n",
    "\n",
    "temp2=6.626*3*876.16\n",
    "print(temp2)\n",
    "\n",
    "print(temp1/temp2)"
   ]
  },
  {
   "cell_type": "markdown",
   "metadata": {},
   "source": [
    "$\n",
    "B^{экв}(R) = 3.654 \\cdot 10 ^{12} \\frac {10 ^{-0.4m_{V} - m_{0}}} {n} [R]$"
   ]
  },
  {
   "cell_type": "markdown",
   "metadata": {},
   "source": [
    "For **S1C**:\n",
    "\n",
    "$\\lambda = 6300 \\, A = 6.3 \\cdot 10 ^ {-5} \\, см$\n",
    "\n",
    "$ \\Delta \\lambda _{eff}=100 \\, A$\n",
    "\n",
    "$f^2 = (35 \\, мм)^2 = (3.5 \\, см)^2 = 12.25\\, см^2$\n",
    "\n",
    "$a_{p} = (2 \\cdot 22 \\, мкм)^2 = 1936 \\, мкм^2 = 1936 \\cdot 10 ^ {-8} \\, см^{2}$\n",
    "\n",
    "$h= 6.626 \\cdot 10^{-27} \\, эрг \\cdot с$\n",
    "\n",
    "$c= 3 \\cdot 10^{10} \\frac {см}{с} $"
   ]
  },
  {
   "cell_type": "code",
   "execution_count": 5,
   "metadata": {
    "collapsed": false
   },
   "outputs": [
    {
     "data": {
      "text/plain": [
       "1.936e-05"
      ]
     },
     "execution_count": 5,
     "metadata": {},
     "output_type": "execute_result"
    }
   ],
   "source": [
    "1936*10**(-8)"
   ]
  },
  {
   "cell_type": "code",
   "execution_count": 5,
   "metadata": {
    "collapsed": false
   },
   "outputs": [
    {
     "name": "stdout",
     "output_type": "stream",
     "text": [
      "96980.96521631691\n",
      "38483.808\n",
      "2.520045968847909\n"
     ]
    }
   ],
   "source": [
    "# S1C\n",
    "temp1=4*np.pi*6.3*100*12.25\n",
    "print(temp1)\n",
    "\n",
    "temp2=6.626*3*1936\n",
    "print(temp2)\n",
    "\n",
    "print(temp1/temp2)"
   ]
  },
  {
   "cell_type": "markdown",
   "metadata": {},
   "source": [
    "$\n",
    "B^{экв}(R) = 252 \\cdot 10 ^{12} \\frac {10 ^{-0.4m_{V} - m_{0}}} {n} [R]$"
   ]
  },
  {
   "cell_type": "code",
   "execution_count": 17,
   "metadata": {
    "collapsed": false
   },
   "outputs": [],
   "source": [
    "def bright_relay_keo(mv,m0,n):\n",
    "    b=(10**(-0.4*mv-m0+12))/n*3.654\n",
    "    return b"
   ]
  },
  {
   "cell_type": "code",
   "execution_count": 10,
   "metadata": {
    "collapsed": true
   },
   "outputs": [],
   "source": [
    "# A0 - 8.56\n",
    "# VEGA\n",
    "mv=0.029999999329447746\n",
    "m0=8.56;\n",
    "n=8"
   ]
  },
  {
   "cell_type": "code",
   "execution_count": 27,
   "metadata": {
    "collapsed": false
   },
   "outputs": [
    {
     "name": "stdout",
     "output_type": "stream",
     "text": [
      "1223.7101331168556\n"
     ]
    }
   ],
   "source": [
    "b=bright_relay_keo(mv,m0,n)\n",
    "print(b)"
   ]
  },
  {
   "cell_type": "code",
   "execution_count": 30,
   "metadata": {
    "collapsed": false
   },
   "outputs": [
    {
     "data": {
      "text/plain": [
       "385.1925"
      ]
     },
     "execution_count": 30,
     "metadata": {},
     "output_type": "execute_result"
    }
   ],
   "source": [
    "# beta And\n",
    "632.5/6*3.654"
   ]
  },
  {
   "cell_type": "code",
   "execution_count": 31,
   "metadata": {
    "collapsed": false
   },
   "outputs": [
    {
     "data": {
      "text/plain": [
       "1082.4975"
      ]
     },
     "execution_count": 31,
     "metadata": {},
     "output_type": "execute_result"
    }
   ],
   "source": [
    "# alpha Lyr\n",
    "2370/8*3.654"
   ]
  },
  {
   "cell_type": "code",
   "execution_count": 32,
   "metadata": {
    "collapsed": false
   },
   "outputs": [
    {
     "data": {
      "text/plain": [
       "210.105"
      ]
     },
     "execution_count": 32,
     "metadata": {},
     "output_type": "execute_result"
    }
   ],
   "source": [
    "# gamma Sge\n",
    "(165+180)/2/3*3.654"
   ]
  },
  {
   "cell_type": "code",
   "execution_count": 24,
   "metadata": {
    "collapsed": true
   },
   "outputs": [],
   "source": [
    "res=40000.0/2**16"
   ]
  },
  {
   "cell_type": "code",
   "execution_count": 29,
   "metadata": {
    "collapsed": false
   },
   "outputs": [
    {
     "name": "stdout",
     "output_type": "stream",
     "text": [
      "3.189174375846512\n"
     ]
    }
   ],
   "source": [
    "Ipix=31221.0\n",
    "k=Ipix/n/b\n",
    "print(k)"
   ]
  },
  {
   "cell_type": "code",
   "execution_count": 23,
   "metadata": {
    "collapsed": false
   },
   "outputs": [
    {
     "data": {
      "text/plain": [
       "0.6103515625"
      ]
     },
     "execution_count": 23,
     "metadata": {},
     "output_type": "execute_result"
    }
   ],
   "source": [
    "40000.0/2**16"
   ]
  }
 ],
 "metadata": {
  "kernelspec": {
   "display_name": "Python 3",
   "language": "python",
   "name": "python3"
  },
  "language_info": {
   "codemirror_mode": {
    "name": "ipython",
    "version": 3
   },
   "file_extension": ".py",
   "mimetype": "text/x-python",
   "name": "python",
   "nbconvert_exporter": "python",
   "pygments_lexer": "ipython3",
   "version": "3.5.2"
  }
 },
 "nbformat": 4,
 "nbformat_minor": 0
}
